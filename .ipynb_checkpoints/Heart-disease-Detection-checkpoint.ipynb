{
 "cells": [
  {
   "cell_type": "markdown",
   "id": "09ccc23a",
   "metadata": {},
   "source": [
    "# Heart Disease Detection"
   ]
  },
  {
   "cell_type": "markdown",
   "id": "84ec4536",
   "metadata": {},
   "source": [
    "## 1.Data Preprocessing"
   ]
  },
  {
   "cell_type": "code",
   "execution_count": 9,
   "id": "d6b52b86",
   "metadata": {},
   "outputs": [],
   "source": [
    "# Standard Imports\n",
    "import pandas as pd\n",
    "import numpy as np\n",
    "import matplotlib.pyplot as plt\n",
    "from sklearn.ensemble import RandomForestClassifier\n",
    "from sklearn.model_selection import train_test_split\n",
    "from sklearn.metrics import accuracy_score,confusion_matrix,classification_report\n",
    "import pickle\n",
    "from sklearn.model_selection import cross_val_score"
   ]
  },
  {
   "cell_type": "code",
   "execution_count": 2,
   "id": "eb166bb2",
   "metadata": {},
   "outputs": [
    {
     "data": {
      "text/html": [
       "<div>\n",
       "<style scoped>\n",
       "    .dataframe tbody tr th:only-of-type {\n",
       "        vertical-align: middle;\n",
       "    }\n",
       "\n",
       "    .dataframe tbody tr th {\n",
       "        vertical-align: top;\n",
       "    }\n",
       "\n",
       "    .dataframe thead th {\n",
       "        text-align: right;\n",
       "    }\n",
       "</style>\n",
       "<table border=\"1\" class=\"dataframe\">\n",
       "  <thead>\n",
       "    <tr style=\"text-align: right;\">\n",
       "      <th></th>\n",
       "      <th>age</th>\n",
       "      <th>sex</th>\n",
       "      <th>cp</th>\n",
       "      <th>trestbps</th>\n",
       "      <th>chol</th>\n",
       "      <th>fbs</th>\n",
       "      <th>restecg</th>\n",
       "      <th>thalach</th>\n",
       "      <th>exang</th>\n",
       "      <th>oldpeak</th>\n",
       "      <th>slope</th>\n",
       "      <th>ca</th>\n",
       "      <th>thal</th>\n",
       "      <th>target</th>\n",
       "    </tr>\n",
       "  </thead>\n",
       "  <tbody>\n",
       "    <tr>\n",
       "      <th>0</th>\n",
       "      <td>63</td>\n",
       "      <td>1</td>\n",
       "      <td>3</td>\n",
       "      <td>145</td>\n",
       "      <td>233</td>\n",
       "      <td>1</td>\n",
       "      <td>0</td>\n",
       "      <td>150</td>\n",
       "      <td>0</td>\n",
       "      <td>2.3</td>\n",
       "      <td>0</td>\n",
       "      <td>0</td>\n",
       "      <td>1</td>\n",
       "      <td>1</td>\n",
       "    </tr>\n",
       "    <tr>\n",
       "      <th>1</th>\n",
       "      <td>37</td>\n",
       "      <td>1</td>\n",
       "      <td>2</td>\n",
       "      <td>130</td>\n",
       "      <td>250</td>\n",
       "      <td>0</td>\n",
       "      <td>1</td>\n",
       "      <td>187</td>\n",
       "      <td>0</td>\n",
       "      <td>3.5</td>\n",
       "      <td>0</td>\n",
       "      <td>0</td>\n",
       "      <td>2</td>\n",
       "      <td>1</td>\n",
       "    </tr>\n",
       "    <tr>\n",
       "      <th>2</th>\n",
       "      <td>41</td>\n",
       "      <td>0</td>\n",
       "      <td>1</td>\n",
       "      <td>130</td>\n",
       "      <td>204</td>\n",
       "      <td>0</td>\n",
       "      <td>0</td>\n",
       "      <td>172</td>\n",
       "      <td>0</td>\n",
       "      <td>1.4</td>\n",
       "      <td>2</td>\n",
       "      <td>0</td>\n",
       "      <td>2</td>\n",
       "      <td>1</td>\n",
       "    </tr>\n",
       "    <tr>\n",
       "      <th>3</th>\n",
       "      <td>56</td>\n",
       "      <td>1</td>\n",
       "      <td>1</td>\n",
       "      <td>120</td>\n",
       "      <td>236</td>\n",
       "      <td>0</td>\n",
       "      <td>1</td>\n",
       "      <td>178</td>\n",
       "      <td>0</td>\n",
       "      <td>0.8</td>\n",
       "      <td>2</td>\n",
       "      <td>0</td>\n",
       "      <td>2</td>\n",
       "      <td>1</td>\n",
       "    </tr>\n",
       "    <tr>\n",
       "      <th>4</th>\n",
       "      <td>57</td>\n",
       "      <td>0</td>\n",
       "      <td>0</td>\n",
       "      <td>120</td>\n",
       "      <td>354</td>\n",
       "      <td>0</td>\n",
       "      <td>1</td>\n",
       "      <td>163</td>\n",
       "      <td>1</td>\n",
       "      <td>0.6</td>\n",
       "      <td>2</td>\n",
       "      <td>0</td>\n",
       "      <td>2</td>\n",
       "      <td>1</td>\n",
       "    </tr>\n",
       "  </tbody>\n",
       "</table>\n",
       "</div>"
      ],
      "text/plain": [
       "   age  sex  cp  trestbps  chol  fbs  restecg  thalach  exang  oldpeak  slope  \\\n",
       "0   63    1   3       145   233    1        0      150      0      2.3      0   \n",
       "1   37    1   2       130   250    0        1      187      0      3.5      0   \n",
       "2   41    0   1       130   204    0        0      172      0      1.4      2   \n",
       "3   56    1   1       120   236    0        1      178      0      0.8      2   \n",
       "4   57    0   0       120   354    0        1      163      1      0.6      2   \n",
       "\n",
       "   ca  thal  target  \n",
       "0   0     1       1  \n",
       "1   0     2       1  \n",
       "2   0     2       1  \n",
       "3   0     2       1  \n",
       "4   0     2       1  "
      ]
     },
     "execution_count": 2,
     "metadata": {},
     "output_type": "execute_result"
    }
   ],
   "source": [
    "# getting the data ready\n",
    "heart_disease= pd.read_csv(\"datasets/heart-disease.csv\")\n",
    "heart_disease.head()"
   ]
  },
  {
   "cell_type": "markdown",
   "id": "1e899d9b",
   "metadata": {},
   "source": [
    "age: The person’s age in years\n",
    "\n",
    "sex: The person’s sex (1 = male, 0 = female)\n",
    "\n",
    "cp: chest pain type\n",
    "\n",
    "— Value 0: asymptomatic\n",
    "\n",
    "— Value 1: atypical angina\n",
    "\n",
    "— Value 2: non-anginal pain\n",
    "\n",
    "— Value 3: typical angina\n",
    "\n",
    "trestbps: The person’s resting blood pressure (mm Hg on admission to the hospital)\n",
    "\n",
    "chol: The person’s cholesterol measurement in mg/dl\n",
    "\n",
    "fbs: The person’s fasting blood sugar (> 120 mg/dl, 1 = true; 0 = false)\n",
    "\n",
    "restecg: resting electrocardiographic results\n",
    "\n",
    "— Value 0: showing probable or definite left ventricular hypertrophy by Estes’ criteria\n",
    "\n",
    "— Value 1: normal\n",
    "\n",
    "— Value 2: having ST-T wave abnormality (T wave inversions and/or ST elevation or depression of > 0.05 mV)\n",
    "\n",
    "thalach: The person’s maximum heart rate achieved\n",
    "\n",
    "exang: Exercise induced angina (1 = yes; 0 = no)\n",
    "\n",
    "oldpeak: ST depression induced by exercise relative to rest (‘ST’ relates to positions on the ECG plot. See more here)\n",
    "\n",
    "slope: the slope of the peak exercise ST segment — 0: downsloping; 1: flat; 2: upsloping\n",
    "\n",
    "0: downsloping; 1: flat; 2: upsloping\n",
    "\n",
    "ca: The number of major vessels (0–3)\n",
    "\n",
    "thal: A blood disorder called thalassemia Value 0: NULL (dropped from the dataset previously\n",
    "\n",
    "Value 1: fixed defect (no blood flow in some part of the heart)\n",
    "\n",
    "Value 2: normal blood flow\n",
    "\n",
    "Value 3: reversible defect (a blood flow is observed but it is not normal)\n",
    "\n",
    "target: Heart disease (1 = no, 0= yes)"
   ]
  },
  {
   "cell_type": "code",
   "execution_count": 3,
   "id": "6ecdc3f4",
   "metadata": {},
   "outputs": [
    {
     "data": {
      "text/html": [
       "<div>\n",
       "<style scoped>\n",
       "    .dataframe tbody tr th:only-of-type {\n",
       "        vertical-align: middle;\n",
       "    }\n",
       "\n",
       "    .dataframe tbody tr th {\n",
       "        vertical-align: top;\n",
       "    }\n",
       "\n",
       "    .dataframe thead th {\n",
       "        text-align: right;\n",
       "    }\n",
       "</style>\n",
       "<table border=\"1\" class=\"dataframe\">\n",
       "  <thead>\n",
       "    <tr style=\"text-align: right;\">\n",
       "      <th></th>\n",
       "      <th>age</th>\n",
       "      <th>sex</th>\n",
       "      <th>cp</th>\n",
       "      <th>trestbps</th>\n",
       "      <th>chol</th>\n",
       "      <th>fbs</th>\n",
       "      <th>restecg</th>\n",
       "      <th>thalach</th>\n",
       "      <th>exang</th>\n",
       "      <th>oldpeak</th>\n",
       "      <th>slope</th>\n",
       "      <th>ca</th>\n",
       "      <th>thal</th>\n",
       "      <th>target</th>\n",
       "    </tr>\n",
       "  </thead>\n",
       "  <tbody>\n",
       "    <tr>\n",
       "      <th>count</th>\n",
       "      <td>303.000000</td>\n",
       "      <td>303.000000</td>\n",
       "      <td>303.000000</td>\n",
       "      <td>303.000000</td>\n",
       "      <td>303.000000</td>\n",
       "      <td>303.000000</td>\n",
       "      <td>303.000000</td>\n",
       "      <td>303.000000</td>\n",
       "      <td>303.000000</td>\n",
       "      <td>303.000000</td>\n",
       "      <td>303.000000</td>\n",
       "      <td>303.000000</td>\n",
       "      <td>303.000000</td>\n",
       "      <td>303.000000</td>\n",
       "    </tr>\n",
       "    <tr>\n",
       "      <th>mean</th>\n",
       "      <td>54.366337</td>\n",
       "      <td>0.683168</td>\n",
       "      <td>0.966997</td>\n",
       "      <td>131.623762</td>\n",
       "      <td>246.264026</td>\n",
       "      <td>0.148515</td>\n",
       "      <td>0.528053</td>\n",
       "      <td>149.646865</td>\n",
       "      <td>0.326733</td>\n",
       "      <td>1.039604</td>\n",
       "      <td>1.399340</td>\n",
       "      <td>0.729373</td>\n",
       "      <td>2.313531</td>\n",
       "      <td>0.544554</td>\n",
       "    </tr>\n",
       "    <tr>\n",
       "      <th>std</th>\n",
       "      <td>9.082101</td>\n",
       "      <td>0.466011</td>\n",
       "      <td>1.032052</td>\n",
       "      <td>17.538143</td>\n",
       "      <td>51.830751</td>\n",
       "      <td>0.356198</td>\n",
       "      <td>0.525860</td>\n",
       "      <td>22.905161</td>\n",
       "      <td>0.469794</td>\n",
       "      <td>1.161075</td>\n",
       "      <td>0.616226</td>\n",
       "      <td>1.022606</td>\n",
       "      <td>0.612277</td>\n",
       "      <td>0.498835</td>\n",
       "    </tr>\n",
       "    <tr>\n",
       "      <th>min</th>\n",
       "      <td>29.000000</td>\n",
       "      <td>0.000000</td>\n",
       "      <td>0.000000</td>\n",
       "      <td>94.000000</td>\n",
       "      <td>126.000000</td>\n",
       "      <td>0.000000</td>\n",
       "      <td>0.000000</td>\n",
       "      <td>71.000000</td>\n",
       "      <td>0.000000</td>\n",
       "      <td>0.000000</td>\n",
       "      <td>0.000000</td>\n",
       "      <td>0.000000</td>\n",
       "      <td>0.000000</td>\n",
       "      <td>0.000000</td>\n",
       "    </tr>\n",
       "    <tr>\n",
       "      <th>25%</th>\n",
       "      <td>47.500000</td>\n",
       "      <td>0.000000</td>\n",
       "      <td>0.000000</td>\n",
       "      <td>120.000000</td>\n",
       "      <td>211.000000</td>\n",
       "      <td>0.000000</td>\n",
       "      <td>0.000000</td>\n",
       "      <td>133.500000</td>\n",
       "      <td>0.000000</td>\n",
       "      <td>0.000000</td>\n",
       "      <td>1.000000</td>\n",
       "      <td>0.000000</td>\n",
       "      <td>2.000000</td>\n",
       "      <td>0.000000</td>\n",
       "    </tr>\n",
       "    <tr>\n",
       "      <th>50%</th>\n",
       "      <td>55.000000</td>\n",
       "      <td>1.000000</td>\n",
       "      <td>1.000000</td>\n",
       "      <td>130.000000</td>\n",
       "      <td>240.000000</td>\n",
       "      <td>0.000000</td>\n",
       "      <td>1.000000</td>\n",
       "      <td>153.000000</td>\n",
       "      <td>0.000000</td>\n",
       "      <td>0.800000</td>\n",
       "      <td>1.000000</td>\n",
       "      <td>0.000000</td>\n",
       "      <td>2.000000</td>\n",
       "      <td>1.000000</td>\n",
       "    </tr>\n",
       "    <tr>\n",
       "      <th>75%</th>\n",
       "      <td>61.000000</td>\n",
       "      <td>1.000000</td>\n",
       "      <td>2.000000</td>\n",
       "      <td>140.000000</td>\n",
       "      <td>274.500000</td>\n",
       "      <td>0.000000</td>\n",
       "      <td>1.000000</td>\n",
       "      <td>166.000000</td>\n",
       "      <td>1.000000</td>\n",
       "      <td>1.600000</td>\n",
       "      <td>2.000000</td>\n",
       "      <td>1.000000</td>\n",
       "      <td>3.000000</td>\n",
       "      <td>1.000000</td>\n",
       "    </tr>\n",
       "    <tr>\n",
       "      <th>max</th>\n",
       "      <td>77.000000</td>\n",
       "      <td>1.000000</td>\n",
       "      <td>3.000000</td>\n",
       "      <td>200.000000</td>\n",
       "      <td>564.000000</td>\n",
       "      <td>1.000000</td>\n",
       "      <td>2.000000</td>\n",
       "      <td>202.000000</td>\n",
       "      <td>1.000000</td>\n",
       "      <td>6.200000</td>\n",
       "      <td>2.000000</td>\n",
       "      <td>4.000000</td>\n",
       "      <td>3.000000</td>\n",
       "      <td>1.000000</td>\n",
       "    </tr>\n",
       "  </tbody>\n",
       "</table>\n",
       "</div>"
      ],
      "text/plain": [
       "              age         sex          cp    trestbps        chol         fbs  \\\n",
       "count  303.000000  303.000000  303.000000  303.000000  303.000000  303.000000   \n",
       "mean    54.366337    0.683168    0.966997  131.623762  246.264026    0.148515   \n",
       "std      9.082101    0.466011    1.032052   17.538143   51.830751    0.356198   \n",
       "min     29.000000    0.000000    0.000000   94.000000  126.000000    0.000000   \n",
       "25%     47.500000    0.000000    0.000000  120.000000  211.000000    0.000000   \n",
       "50%     55.000000    1.000000    1.000000  130.000000  240.000000    0.000000   \n",
       "75%     61.000000    1.000000    2.000000  140.000000  274.500000    0.000000   \n",
       "max     77.000000    1.000000    3.000000  200.000000  564.000000    1.000000   \n",
       "\n",
       "          restecg     thalach       exang     oldpeak       slope          ca  \\\n",
       "count  303.000000  303.000000  303.000000  303.000000  303.000000  303.000000   \n",
       "mean     0.528053  149.646865    0.326733    1.039604    1.399340    0.729373   \n",
       "std      0.525860   22.905161    0.469794    1.161075    0.616226    1.022606   \n",
       "min      0.000000   71.000000    0.000000    0.000000    0.000000    0.000000   \n",
       "25%      0.000000  133.500000    0.000000    0.000000    1.000000    0.000000   \n",
       "50%      1.000000  153.000000    0.000000    0.800000    1.000000    0.000000   \n",
       "75%      1.000000  166.000000    1.000000    1.600000    2.000000    1.000000   \n",
       "max      2.000000  202.000000    1.000000    6.200000    2.000000    4.000000   \n",
       "\n",
       "             thal      target  \n",
       "count  303.000000  303.000000  \n",
       "mean     2.313531    0.544554  \n",
       "std      0.612277    0.498835  \n",
       "min      0.000000    0.000000  \n",
       "25%      2.000000    0.000000  \n",
       "50%      2.000000    1.000000  \n",
       "75%      3.000000    1.000000  \n",
       "max      3.000000    1.000000  "
      ]
     },
     "execution_count": 3,
     "metadata": {},
     "output_type": "execute_result"
    }
   ],
   "source": [
    "heart_disease.describe()"
   ]
  },
  {
   "cell_type": "code",
   "execution_count": 4,
   "id": "01d6c61c",
   "metadata": {},
   "outputs": [
    {
     "name": "stdout",
     "output_type": "stream",
     "text": [
      "<class 'pandas.core.frame.DataFrame'>\n",
      "RangeIndex: 303 entries, 0 to 302\n",
      "Data columns (total 14 columns):\n",
      " #   Column    Non-Null Count  Dtype  \n",
      "---  ------    --------------  -----  \n",
      " 0   age       303 non-null    int64  \n",
      " 1   sex       303 non-null    int64  \n",
      " 2   cp        303 non-null    int64  \n",
      " 3   trestbps  303 non-null    int64  \n",
      " 4   chol      303 non-null    int64  \n",
      " 5   fbs       303 non-null    int64  \n",
      " 6   restecg   303 non-null    int64  \n",
      " 7   thalach   303 non-null    int64  \n",
      " 8   exang     303 non-null    int64  \n",
      " 9   oldpeak   303 non-null    float64\n",
      " 10  slope     303 non-null    int64  \n",
      " 11  ca        303 non-null    int64  \n",
      " 12  thal      303 non-null    int64  \n",
      " 13  target    303 non-null    int64  \n",
      "dtypes: float64(1), int64(13)\n",
      "memory usage: 33.3 KB\n"
     ]
    }
   ],
   "source": [
    "heart_disease.info()"
   ]
  },
  {
   "cell_type": "markdown",
   "id": "32573ed8",
   "metadata": {},
   "source": [
    "Here, we can see that all the values are in numerical format\n",
    "\n",
    "which is good for us..."
   ]
  },
  {
   "cell_type": "code",
   "execution_count": 5,
   "id": "ea2506d0",
   "metadata": {},
   "outputs": [],
   "source": [
    "# data droping if null\n",
    "heart_disease.dropna(inplace=True)"
   ]
  },
  {
   "cell_type": "code",
   "execution_count": 6,
   "id": "f05208ad",
   "metadata": {},
   "outputs": [],
   "source": [
    "# creating X(Feature set) and Y(Target Set)\n",
    "x=heart_disease.drop(\"target\", axis=1)\n",
    "y=heart_disease[\"target\"]"
   ]
  },
  {
   "cell_type": "code",
   "execution_count": 7,
   "id": "8e4b395c",
   "metadata": {},
   "outputs": [],
   "source": [
    "# spliting data into training and testing parts\n",
    "np.random.seed(45)\n",
    "x_train,x_test,y_train,y_test=train_test_split(x,y, test_size=0.2)"
   ]
  },
  {
   "cell_type": "code",
   "execution_count": 8,
   "id": "d274207b",
   "metadata": {},
   "outputs": [
    {
     "data": {
      "text/plain": [
       "((242, 13), (61, 13), (242,), (61,))"
      ]
     },
     "execution_count": 8,
     "metadata": {},
     "output_type": "execute_result"
    }
   ],
   "source": [
    "x_train.shape,x_test.shape,y_train.shape,y_test.shape"
   ]
  },
  {
   "cell_type": "code",
   "execution_count": null,
   "id": "7d7c1beb",
   "metadata": {},
   "outputs": [],
   "source": []
  },
  {
   "cell_type": "markdown",
   "id": "454c25d8",
   "metadata": {},
   "source": [
    "## 2.Model Training"
   ]
  },
  {
   "cell_type": "markdown",
   "id": "1178fee6",
   "metadata": {},
   "source": [
    "This is a classification Problem so I have picked Random Forest Classifier Algorithm to solve it."
   ]
  },
  {
   "cell_type": "code",
   "execution_count": 30,
   "id": "cad61e1b",
   "metadata": {},
   "outputs": [
    {
     "name": "stdout",
     "output_type": "stream",
     "text": [
      "Trying the model with 10 n_estimator...\n",
      "Model accuracy by 10 fold cross validation is 80.86%\n",
      "Model single accuracy 77.05%\n",
      "\n",
      "Trying the model with 20 n_estimator...\n",
      "Model accuracy by 10 fold cross validation is 79.88%\n",
      "Model single accuracy 75.41%\n",
      "\n",
      "Trying the model with 30 n_estimator...\n",
      "Model accuracy by 10 fold cross validation is 81.83%\n",
      "Model single accuracy 81.97%\n",
      "\n",
      "Trying the model with 40 n_estimator...\n",
      "Model accuracy by 10 fold cross validation is 80.81%\n",
      "Model single accuracy 86.89%\n",
      "\n",
      "Trying the model with 50 n_estimator...\n",
      "Model accuracy by 10 fold cross validation is 82.81%\n",
      "Model single accuracy 90.16%\n",
      "\n",
      "Trying the model with 60 n_estimator...\n",
      "Model accuracy by 10 fold cross validation is 82.83%\n",
      "Model single accuracy 83.61%\n",
      "\n",
      "Trying the model with 70 n_estimator...\n",
      "Model accuracy by 10 fold cross validation is 83.14%\n",
      "Model single accuracy 86.89%\n",
      "\n",
      "Trying the model with 80 n_estimator...\n",
      "Model accuracy by 10 fold cross validation is 81.80%\n",
      "Model single accuracy 83.61%\n",
      "\n",
      "Trying the model with 90 n_estimator...\n",
      "Model accuracy by 10 fold cross validation is 85.15%\n",
      "Model single accuracy 85.25%\n",
      "\n",
      "Trying the model with 100 n_estimator...\n",
      "Model accuracy by 10 fold cross validation is 82.48%\n",
      "Model single accuracy 88.52%\n",
      "\n",
      "Trying the model with 110 n_estimator...\n",
      "Model accuracy by 10 fold cross validation is 82.81%\n",
      "Model single accuracy 88.52%\n",
      "\n",
      "Trying the model with 120 n_estimator...\n",
      "Model accuracy by 10 fold cross validation is 83.13%\n",
      "Model single accuracy 88.52%\n",
      "\n",
      "Trying the model with 130 n_estimator...\n",
      "Model accuracy by 10 fold cross validation is 84.13%\n",
      "Model single accuracy 83.61%\n",
      "\n",
      "Trying the model with 140 n_estimator...\n",
      "Model accuracy by 10 fold cross validation is 82.82%\n",
      "Model single accuracy 83.61%\n",
      "\n",
      "\n",
      "Highest accuracy model with 90 n_estimator Saved\n"
     ]
    }
   ],
   "source": [
    "np.random.seed(45)\n",
    "a,b=0,0\n",
    "ii=0\n",
    "for i in range (10,150,10):\n",
    "    print(f\"Trying the model with {i} n_estimator...\")\n",
    "    clf = RandomForestClassifier(n_estimators=i).fit(x_train,y_train)\n",
    "    a=np.mean(cross_val_score(clf,x,y,cv=10))\n",
    "    print(f\"Model accuracy by 10 fold cross validation is {a*100:.2f}%\")\n",
    "    print(f\"Model single accuracy is {clf.score(x_test,y_test)*100:.2f}%\")\n",
    "    if a>b:\n",
    "        b=a\n",
    "        pickle.dump(clf, open(\"model.pkl\",\"wb\"))\n",
    "        ii=i\n",
    "    print(\"\")\n",
    "print(f\"\\nHighest accuracy model with {ii} n_estimator Saved\")"
   ]
  },
  {
   "cell_type": "code",
   "execution_count": 31,
   "id": "753b0437",
   "metadata": {},
   "outputs": [
    {
     "name": "stdout",
     "output_type": "stream",
     "text": [
      "The single score is 85.25%\n",
      "The 10 fold Cross val score is 83.15%\n"
     ]
    }
   ],
   "source": [
    "# Lets Evaluate the saved model single score and cross val score\n",
    "np.random.seed(45)\n",
    "loaded_model=pickle.load(open(\"model.pkl\",\"rb\"))\n",
    "print(f\"The single score is {loaded_model.score(x_test,y_test)*100:.2f}%\")\n",
    "print(f\"The 10 fold Cross val score is {np.mean(cross_val_score(loaded_model,x,y,cv=10))*100:.2f}%\")"
   ]
  },
  {
   "cell_type": "markdown",
   "id": "38da0391",
   "metadata": {},
   "source": [
    "### Run standard import cell and then the below cells to get faster result"
   ]
  },
  {
   "cell_type": "code",
   "execution_count": 32,
   "id": "1ad245a1",
   "metadata": {},
   "outputs": [],
   "source": [
    "# getting the data ready\n",
    "heart_disease= pd.read_csv(\"datasets/heart-disease.csv\")\n",
    "heart_disease.dropna(inplace=True)\n",
    "x=heart_disease.drop(\"target\", axis=1)\n",
    "y=heart_disease[\"target\"]"
   ]
  },
  {
   "cell_type": "code",
   "execution_count": 33,
   "id": "e71939df",
   "metadata": {},
   "outputs": [],
   "source": [
    "np.random.seed(45)\n",
    "x_train,x_test,y_train,y_test=train_test_split(x,y, test_size=0.2)"
   ]
  },
  {
   "cell_type": "code",
   "execution_count": 34,
   "id": "fbecb6f1",
   "metadata": {},
   "outputs": [
    {
     "name": "stdout",
     "output_type": "stream",
     "text": [
      "Model Accuracy: 85.25 %\n"
     ]
    }
   ],
   "source": [
    "loaded_model=pickle.load(open(\"model.pkl\",\"rb\"))\n",
    "print(\"Model Accuracy:\",round(loaded_model.score(x_test,y_test)*100,2),\"%\")"
   ]
  },
  {
   "cell_type": "code",
   "execution_count": 35,
   "id": "7603ac0c",
   "metadata": {},
   "outputs": [],
   "source": [
    "y_label=loaded_model.predict(x_test)"
   ]
  },
  {
   "cell_type": "code",
   "execution_count": 36,
   "id": "1879f74a",
   "metadata": {},
   "outputs": [
    {
     "name": "stdout",
     "output_type": "stream",
     "text": [
      "              precision    recall  f1-score   support\n",
      "\n",
      "           0       0.75      0.91      0.82        23\n",
      "           1       0.94      0.82      0.87        38\n",
      "\n",
      "    accuracy                           0.85        61\n",
      "   macro avg       0.84      0.86      0.85        61\n",
      "weighted avg       0.87      0.85      0.85        61\n",
      "\n"
     ]
    }
   ],
   "source": [
    "# classification Report\n",
    "print(classification_report(y_test,y_label))"
   ]
  },
  {
   "cell_type": "code",
   "execution_count": 37,
   "id": "5809e280",
   "metadata": {},
   "outputs": [
    {
     "name": "stdout",
     "output_type": "stream",
     "text": [
      "[[21  2]\n",
      " [ 7 31]]\n"
     ]
    }
   ],
   "source": [
    "# confusion_matrix\n",
    "print(confusion_matrix(y_test,y_label))"
   ]
  },
  {
   "attachments": {
    "WhatsApp%20Image%202022-03-07%20at%203.26.27%20AM.jpeg": {
     "image/jpeg": "[encoded data removed]"
    }
   },
   "cell_type": "markdown",
   "id": "30b568c2",
   "metadata": {},
   "source": [
    "![WhatsApp%20Image%202022-03-07%20at%203.26.27%20AM.jpeg](attachment:WhatsApp%20Image%202022-03-07%20at%203.26.27%20AM.jpeg)"
   ]
  },
  {
   "cell_type": "markdown",
   "id": "96e654ae",
   "metadata": {},
   "source": [
    "### Confusion Metrics\n",
    "From our confusion matrix, we can calculate five different metrics measuring the validity of our model.\n",
    "\n",
    "* Accuracy (all correct / all) = TP + TN / TP + TN + FP + FN\n",
    "\n",
    "* Misclassification (all incorrect / all) = FP + FN / TP + TN + FP + FN\n",
    "\n",
    "* Precision (true positives / predicted positives) = TP / TP + FP\n",
    "\n",
    "* Sensitivity aka Recall (true positives / all actual positives) = TP / TP + FN\n",
    "\n",
    "* Specificity (true negatives / all actual negatives) =TN / TN + FP"
   ]
  },
  {
   "cell_type": "markdown",
   "id": "be69760f",
   "metadata": {},
   "source": [
    "## 3.Deployment "
   ]
  },
  {
   "cell_type": "code",
   "execution_count": 48,
   "id": "d85f1791",
   "metadata": {},
   "outputs": [],
   "source": [
    "def heart_disease_check():\n",
    "    vage=int(input(\"Enter the patient age:\"))\n",
    "    vsex=int(input(\"Press 1 if you are male and 0 for female:\"))\n",
    "    vcp=int(input('''cp: chest pain type\n",
    "\n",
    "    — Value 0: asymptomatic\n",
    "\n",
    "    — Value 1: atypical angina\n",
    "\n",
    "    — Value 2: non-anginal pain\n",
    "\n",
    "    — Value 3: typical angina\n",
    "\n",
    "    Enter Value Here:'''))\n",
    "\n",
    "    vtrestbps=int(input(\"Enter resting blood pressure (mm Hg on admission to the hospital):\"))\n",
    "\n",
    "    vchol=int(input(\"Enter cholesterol measurement in mg/dl:\"))\n",
    "\n",
    "    vfbs=int(input(\"fasting blood sugar (> 120 mg/dl, 1 = true; 0 = false):\"))\n",
    "\n",
    "    vrestecg=int(input('''resting electrocardiographic results\n",
    "\n",
    "    — Value 0: showing probable or definite left ventricular hypertrophy by Estes’ criteria\n",
    "\n",
    "    — Value 1: normal\n",
    "\n",
    "    — Value 2: having ST-T wave abnormality (T wave inversions and/or ST elevation or depression of > 0.05 mV)\n",
    "    Enter Value Here:'''))\n",
    "\n",
    "    vthalach=int(input(\"Enter maximum heart rate achieved:\"))\n",
    "\n",
    "    vexang=int(input(\"Exercise induced angina (1 = yes; 0 = no):\"))\n",
    "\n",
    "    voldpeak=float(input(\"ST depression induced by exercise relative to rest (‘ST’ relates to positions on the ECG plot):\"))\n",
    "\n",
    "    vslope=int(input(\"the slope of the peak exercise ST segment — 0: downsloping; 1: flat; 2: upsloping:\"))\n",
    "\n",
    "    vca=int(input(\"The number of major vessels (0–3):\"))\n",
    "\n",
    "    vthal=int(input(\"A blood disorder called thalassemia Value (0: NULL):\"))\n",
    "\n",
    "    dicto={\"age\":[vage],\"sex\":[vsex],\"cp\":[vcp],\"trestbps\":[vtrestbps],\"chol\":[vchol],\"fbs\":[vfbs],\"restecg\":[vrestecg],\"thalach\":[vthalach],\"exang\":[vexang],\"oldpeak\":[voldpeak],\"slope\":[vslope],\"ca\":[vca],\"thal\":[vthal]}\n",
    "    df=pd.DataFrame(dicto)\n",
    "    df\n",
    "    y_pred=loaded_model.predict(df)\n",
    "    y_pred\n",
    "    print(\"\\n **The result is** \\n\")\n",
    "    if (y_pred[0]==1):\n",
    "        print(\"This Person has a Heart Disease..\")\n",
    "    else:\n",
    "        print(\"This person has no Heart Disease...\")"
   ]
  },
  {
   "cell_type": "code",
   "execution_count": 50,
   "id": "44c7cbfd",
   "metadata": {},
   "outputs": [
    {
     "name": "stdout",
     "output_type": "stream",
     "text": [
      "Enter the patient age:60\n",
      "Press 1 if you are male and 0 for female:1\n",
      "cp: chest pain type\n",
      "\n",
      "    — Value 0: asymptomatic\n",
      "\n",
      "    — Value 1: atypical angina\n",
      "\n",
      "    — Value 2: non-anginal pain\n",
      "\n",
      "    — Value 3: typical angina\n",
      "\n",
      "    Enter Value Here:3\n",
      "Enter resting blood pressure (mm Hg on admission to the hospital):172\n",
      "Enter cholesterol measurement in mg/dl:200\n",
      "fasting blood sugar (> 120 mg/dl, 1 = true; 0 = false):1\n",
      "resting electrocardiographic results\n",
      "\n",
      "    — Value 0: showing probable or definite left ventricular hypertrophy by Estes’ criteria\n",
      "\n",
      "    — Value 1: normal\n",
      "\n",
      "    — Value 2: having ST-T wave abnormality (T wave inversions and/or ST elevation or depression of > 0.05 mV)\n",
      "    Enter Value Here:1\n",
      "Enter maximum heart rate achieved:210\n",
      "Exercise induced angina (1 = yes; 0 = no):0\n",
      "ST depression induced by exercise relative to rest (‘ST’ relates to positions on the ECG plot):2\n",
      "the slope of the peak exercise ST segment — 0: downsloping; 1: flat; 2: upsloping:2\n",
      "The number of major vessels (0–3):3\n",
      "A blood disorder called thalassemia Value (0: NULL):0\n",
      "\n",
      " **The result is** \n",
      "\n",
      "This Person has a Heart Disease..\n"
     ]
    }
   ],
   "source": [
    "heart_disease_check()"
   ]
  },
  {
   "cell_type": "code",
   "execution_count": null,
   "id": "40c7555f",
   "metadata": {},
   "outputs": [],
   "source": []
  }
 ],
 "metadata": {
  "kernelspec": {
   "display_name": "Python 3 (ipykernel)",
   "language": "python",
   "name": "python3"
  },
  "language_info": {
   "codemirror_mode": {
    "name": "ipython",
    "version": 3
   },
   "file_extension": ".py",
   "mimetype": "text/x-python",
   "name": "python",
   "nbconvert_exporter": "python",
   "pygments_lexer": "ipython3",
   "version": "3.9.7"
  }
 },
 "nbformat": 4,
 "nbformat_minor": 5
}
